{
  "cells": [
    {
      "cell_type": "markdown",
      "id": "c92eede0",
      "metadata": {
        "id": "c92eede0"
      },
      "source": [
        "# Importing the Libraries"
      ]
    },
    {
      "cell_type": "code",
      "execution_count": 63,
      "id": "4d04bfa9",
      "metadata": {
        "id": "4d04bfa9"
      },
      "outputs": [],
      "source": [
        "import numpy as np\n",
        "import pickle as pkl\n",
        "import pandas as pd\n",
        "from sklearn.model_selection import train_test_split\n",
        "from sklearn.ensemble import RandomForestClassifier,GradientBoostingClassifier\n",
        "from sklearn.tree import DecisionTreeClassifier\n",
        "from sklearn.neighbors import KNeighborsClassifier\n",
        "from sklearn.svm import SVC\n",
        "from sklearn.linear_model import LogisticRegression\n",
        "from sklearn.naive_bayes import GaussianNB\n",
        "from sklearn.metrics import confusion_matrix, accuracy_score"
      ]
    },
    {
      "cell_type": "markdown",
      "id": "d41e2071",
      "metadata": {
        "id": "d41e2071"
      },
      "source": [
        "# Importing and splitting the proceesed dataset"
      ]
    },
    {
      "cell_type": "code",
      "execution_count": 34,
      "id": "c7d48bce",
      "metadata": {
        "id": "c7d48bce"
      },
      "outputs": [],
      "source": [
        "dataset = pd.read_csv('Healthcare_processed_dataset.csv') #the preprocessing file is in the week8 file and it would be redundant to add it again here\n",
        "X = dataset.iloc[:, :-1].values\n",
        "y = dataset.iloc[:, -1].values"
      ]
    },
    {
      "cell_type": "code",
      "execution_count": 35,
      "id": "cb4bd4d8",
      "metadata": {
        "id": "cb4bd4d8"
      },
      "outputs": [],
      "source": [
        "X_train, X_test, y_train, y_test = train_test_split(X, y, test_size = 0.20)"
      ]
    },
    {
      "cell_type": "markdown",
      "id": "80564dd1",
      "metadata": {
        "id": "80564dd1"
      },
      "source": [
        "# Initializing and training models "
      ]
    },
    {
      "cell_type": "code",
      "execution_count": null,
      "id": "53f5d0ee",
      "metadata": {
        "id": "53f5d0ee"
      },
      "outputs": [],
      "source": [
        "class_RandomForest = RandomForestClassifier(n_estimators = 100, criterion = 'entropy', random_state = 0).fit(X_train, y_train)\n",
        "class_GradientBoost = GradientBoostingClassifier(n_estimators=100, learning_rate=1.0, max_depth=1, random_state=0).fit(X_train, y_train)\n",
        "class_DecisionTree = DecisionTreeClassifier(criterion = 'entropy', random_state = 0).fit(X_train, y_train)\n",
        "class_KNeighbors = KNeighborsClassifier().fit(X_train, y_train)\n",
        "class_KSVM = SVC(kernel = 'rbf', random_state = 0).fit(X_train, y_train)\n",
        "class_SVM = SVC(kernel = 'linear', random_state = 0).fit(X_train, y_train)\n",
        "class_NB = GaussianNB().fit(X_train, y_train)\n",
        "class_LR = LogisticRegression(random_state = 0).fit(X_train, y_train)"
      ]
    },
    {
      "cell_type": "markdown",
      "id": "7f348d1f",
      "metadata": {
        "id": "7f348d1f"
      },
      "source": [
        "# Obtaining test predictions"
      ]
    },
    {
      "cell_type": "code",
      "execution_count": 37,
      "id": "2de5fab6",
      "metadata": {
        "id": "2de5fab6"
      },
      "outputs": [],
      "source": [
        "y_pred_RandomForest = class_RandomForest.predict(X_test)\n",
        "y_pred_GradientBoost = class_GradientBoost.predict(X_test)\n",
        "y_pred_DecisionTree = class_DecisionTree.predict(X_test)\n",
        "y_pred_KNeighbors = class_KNeighbors.predict(X_test)\n",
        "y_pred_KSVM = class_KSVM.predict(X_test)\n",
        "y_pred_SVM = class_SVM.predict(X_test)\n",
        "y_pred_NB = class_NB.predict(X_test)\n",
        "y_pred_LR = class_LR.predict(X_test)"
      ]
    },
    {
      "cell_type": "markdown",
      "id": "5100db4c",
      "metadata": {
        "id": "5100db4c"
      },
      "source": [
        "# Creating confusion matricies "
      ]
    },
    {
      "cell_type": "code",
      "execution_count": 38,
      "id": "145c165e",
      "metadata": {
        "id": "145c165e"
      },
      "outputs": [],
      "source": [
        "cm_RandomForest = confusion_matrix(y_test, y_pred_RandomForest)\n",
        "cm_GradientBoost = confusion_matrix(y_test, y_pred_GradientBoost)\n",
        "cm_DecisionTree = confusion_matrix(y_test, y_pred_DecisionTree)\n",
        "cm_KNeighbors = confusion_matrix(y_test, y_pred_KNeighbors)\n",
        "cm_KSVM = confusion_matrix(y_test, y_pred_KSVM)\n",
        "cm_SVM = confusion_matrix(y_test, y_pred_SVM)\n",
        "cm_NB = confusion_matrix(y_test, y_pred_NB)\n",
        "cm_LR = confusion_matrix(y_test, y_pred_LR)"
      ]
    },
    {
      "cell_type": "markdown",
      "id": "d496bb32",
      "metadata": {
        "id": "d496bb32"
      },
      "source": [
        "# Comparing models"
      ]
    },
    {
      "cell_type": "code",
      "execution_count": 55,
      "id": "c47cbbf7",
      "metadata": {
        "colab": {
          "base_uri": "https://localhost:8080/"
        },
        "id": "c47cbbf7",
        "outputId": "dd17c330-c89b-43b8-f848-146ec3f30963"
      },
      "outputs": [
        {
          "output_type": "stream",
          "name": "stdout",
          "text": [
            "[[379  48]\n",
            " [ 74 184]]\n",
            "82.18978102189782\n"
          ]
        }
      ],
      "source": [
        "print(cm_RandomForest)\n",
        "print(accuracy_score(y_test, y_pred_RandomForest)*100)"
      ]
    },
    {
      "cell_type": "code",
      "source": [
        "print(cm_GradientBoost)\n",
        "print(accuracy_score(y_test, y_pred_GradientBoost)*100)"
      ],
      "metadata": {
        "colab": {
          "base_uri": "https://localhost:8080/"
        },
        "id": "NtFWPrxjyG5V",
        "outputId": "013a4386-a70f-429d-bdc8-fd54505dff88"
      },
      "id": "NtFWPrxjyG5V",
      "execution_count": 56,
      "outputs": [
        {
          "output_type": "stream",
          "name": "stdout",
          "text": [
            "[[370  57]\n",
            " [ 82 176]]\n",
            "79.7080291970803\n"
          ]
        }
      ]
    },
    {
      "cell_type": "code",
      "execution_count": 57,
      "id": "57bc35a3",
      "metadata": {
        "colab": {
          "base_uri": "https://localhost:8080/"
        },
        "id": "57bc35a3",
        "outputId": "244a9211-c947-48ff-9920-8002d60b6cc4"
      },
      "outputs": [
        {
          "output_type": "stream",
          "name": "stdout",
          "text": [
            "[[324 103]\n",
            " [ 85 173]]\n",
            "72.55474452554745\n"
          ]
        }
      ],
      "source": [
        "print(cm_DecisionTree)\n",
        "print(accuracy_score(y_test, y_pred_DecisionTree)*100)"
      ]
    },
    {
      "cell_type": "code",
      "execution_count": 58,
      "id": "980487f7",
      "metadata": {
        "colab": {
          "base_uri": "https://localhost:8080/"
        },
        "id": "980487f7",
        "outputId": "8284f987-8afb-4503-b51e-2ffc28262ced"
      },
      "outputs": [
        {
          "output_type": "stream",
          "name": "stdout",
          "text": [
            "[[380  47]\n",
            " [ 93 165]]\n",
            "79.56204379562044\n"
          ]
        }
      ],
      "source": [
        "print(cm_KNeighbors)\n",
        "print(accuracy_score(y_test, y_pred_KNeighbors)*100)"
      ]
    },
    {
      "cell_type": "code",
      "execution_count": 59,
      "id": "79416f20",
      "metadata": {
        "colab": {
          "base_uri": "https://localhost:8080/"
        },
        "id": "79416f20",
        "outputId": "28d57d8a-c76f-4e8c-f24e-306aeaa92c5b"
      },
      "outputs": [
        {
          "output_type": "stream",
          "name": "stdout",
          "text": [
            "[[385  42]\n",
            " [ 84 174]]\n",
            "81.60583941605839\n"
          ]
        }
      ],
      "source": [
        "print(cm_KSVM)\n",
        "print(accuracy_score(y_test, y_pred_KSVM)*100)"
      ]
    },
    {
      "cell_type": "code",
      "execution_count": 60,
      "id": "24510550",
      "metadata": {
        "colab": {
          "base_uri": "https://localhost:8080/"
        },
        "id": "24510550",
        "outputId": "ecd1ddc0-fd40-4840-eb73-d5778b27c966"
      },
      "outputs": [
        {
          "output_type": "stream",
          "name": "stdout",
          "text": [
            "[[370  57]\n",
            " [ 77 181]]\n",
            "80.43795620437956\n"
          ]
        }
      ],
      "source": [
        "print(cm_SVM)\n",
        "print(accuracy_score(y_test, y_pred_SVM)*100)"
      ]
    },
    {
      "cell_type": "code",
      "execution_count": 61,
      "id": "d989493a",
      "metadata": {
        "colab": {
          "base_uri": "https://localhost:8080/"
        },
        "id": "d989493a",
        "outputId": "e1cecadf-b5c1-41c3-de68-7ad59a5985c3"
      },
      "outputs": [
        {
          "output_type": "stream",
          "name": "stdout",
          "text": [
            "[[ 16 411]\n",
            " [  5 253]]\n",
            "39.270072992700726\n"
          ]
        }
      ],
      "source": [
        "print(cm_NB)\n",
        "print(accuracy_score(y_test, y_pred_NB)*100)"
      ]
    },
    {
      "cell_type": "code",
      "execution_count": 62,
      "id": "0aaf84bc",
      "metadata": {
        "colab": {
          "base_uri": "https://localhost:8080/"
        },
        "id": "0aaf84bc",
        "outputId": "9cb6db26-4150-437e-854b-3c8de2da0229"
      },
      "outputs": [
        {
          "output_type": "stream",
          "name": "stdout",
          "text": [
            "[[367  60]\n",
            " [ 78 180]]\n",
            "79.85401459854015\n"
          ]
        }
      ],
      "source": [
        "print(cm_LR)\n",
        "print(accuracy_score(y_test, y_pred_LR)*100)"
      ]
    },
    {
      "cell_type": "markdown",
      "source": [
        "# Saving the best model"
      ],
      "metadata": {
        "id": "n4oEyXVKzKH5"
      },
      "id": "n4oEyXVKzKH5"
    },
    {
      "cell_type": "code",
      "source": [
        "pkl.dump(class_RandomForest, open('model.pkl', 'wb'))"
      ],
      "metadata": {
        "id": "6McRCHLAzKRV"
      },
      "id": "6McRCHLAzKRV",
      "execution_count": 64,
      "outputs": []
    }
  ],
  "metadata": {
    "kernelspec": {
      "display_name": "Python 3 (ipykernel)",
      "language": "python",
      "name": "python3"
    },
    "language_info": {
      "codemirror_mode": {
        "name": "ipython",
        "version": 3
      },
      "file_extension": ".py",
      "mimetype": "text/x-python",
      "name": "python",
      "nbconvert_exporter": "python",
      "pygments_lexer": "ipython3",
      "version": "3.10.0"
    },
    "colab": {
      "name": "Model_selection&Building.ipynb",
      "provenance": []
    }
  },
  "nbformat": 4,
  "nbformat_minor": 5
}