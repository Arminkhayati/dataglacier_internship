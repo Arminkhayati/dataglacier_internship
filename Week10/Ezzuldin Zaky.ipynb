{
 "cells": [
  {
   "cell_type": "code",
   "execution_count": 8,
   "id": "63506774",
   "metadata": {
    "id": "63506774"
   },
   "outputs": [],
   "source": [
    "import pandas as pd\n",
    "import numpy as np\n",
    "import seaborn as sns"
   ]
  },
  {
   "cell_type": "code",
   "execution_count": 2,
   "id": "78985720",
   "metadata": {
    "colab": {
     "base_uri": "https://localhost:8080/",
     "height": 331
    },
    "id": "78985720",
    "outputId": "5d43f52f-8fdb-4112-ba91-25a395f07eec"
   },
   "outputs": [
    {
     "name": "stderr",
     "output_type": "stream",
     "text": [
      "C:\\Users\\97156\\AppData\\Local\\Temp\\ipykernel_6688\\3139887487.py:2: FutureWarning: The error_bad_lines argument has been deprecated and will be removed in a future version. Use on_bad_lines in the future.\n",
      "\n",
      "\n",
      "  dataset=pd.read_csv(path,encoding = 'unicode_escape',error_bad_lines=False)\n"
     ]
    }
   ],
   "source": [
    "path = r'Healthcare_dataset.csv'\n",
    "dataset=pd.read_csv(path,encoding = 'unicode_escape',error_bad_lines=False)"
   ]
  },
  {
   "cell_type": "markdown",
   "id": "eba4a8b8",
   "metadata": {
    "id": "eba4a8b8"
   },
   "source": [
    "# Understanding the data"
   ]
  },
  {
   "cell_type": "markdown",
   "id": "75abc628",
   "metadata": {
    "id": "75abc628"
   },
   "source": [
    "Checking the headers"
   ]
  },
  {
   "cell_type": "code",
   "execution_count": 3,
   "id": "6da3fa4b",
   "metadata": {
    "colab": {
     "base_uri": "https://localhost:8080/",
     "height": 299
    },
    "id": "6da3fa4b",
    "outputId": "287c9fba-b8f8-4d4b-d340-b5b2bf0b9481"
   },
   "outputs": [
    {
     "data": {
      "text/html": [
       "<div>\n",
       "<style scoped>\n",
       "    .dataframe tbody tr th:only-of-type {\n",
       "        vertical-align: middle;\n",
       "    }\n",
       "\n",
       "    .dataframe tbody tr th {\n",
       "        vertical-align: top;\n",
       "    }\n",
       "\n",
       "    .dataframe thead th {\n",
       "        text-align: right;\n",
       "    }\n",
       "</style>\n",
       "<table border=\"1\" class=\"dataframe\">\n",
       "  <thead>\n",
       "    <tr style=\"text-align: right;\">\n",
       "      <th></th>\n",
       "      <th>ï»¿Gender</th>\n",
       "      <th>Race</th>\n",
       "      <th>Ethnicity</th>\n",
       "      <th>Region</th>\n",
       "      <th>Age_Bucket</th>\n",
       "      <th>Ntm_Speciality</th>\n",
       "      <th>Ntm_Specialist_Flag</th>\n",
       "      <th>Ntm_Speciality_Bucket</th>\n",
       "      <th>Gluco_Record_Prior_Ntm</th>\n",
       "      <th>Gluco_Record_During_Rx</th>\n",
       "      <th>...</th>\n",
       "      <th>Risk_Low_Calcium_Intake</th>\n",
       "      <th>Risk_Vitamin_D_Insufficiency</th>\n",
       "      <th>Risk_Poor_Health_Frailty</th>\n",
       "      <th>Risk_Excessive_Thinness</th>\n",
       "      <th>Risk_Hysterectomy_Oophorectomy</th>\n",
       "      <th>Risk_Estrogen_Deficiency</th>\n",
       "      <th>Risk_Immobilization</th>\n",
       "      <th>Risk_Recurring_Falls</th>\n",
       "      <th>Dexa_Freq_During_Rx</th>\n",
       "      <th>Persistency_Flag</th>\n",
       "    </tr>\n",
       "  </thead>\n",
       "  <tbody>\n",
       "    <tr>\n",
       "      <th>0</th>\n",
       "      <td>Male</td>\n",
       "      <td>Caucasian</td>\n",
       "      <td>Not Hispanic</td>\n",
       "      <td>West</td>\n",
       "      <td>&gt;75</td>\n",
       "      <td>GENERAL PRACTITIONER</td>\n",
       "      <td>Others</td>\n",
       "      <td>OB/GYN/Others/PCP/Unknown</td>\n",
       "      <td>N</td>\n",
       "      <td>N</td>\n",
       "      <td>...</td>\n",
       "      <td>N</td>\n",
       "      <td>N</td>\n",
       "      <td>N</td>\n",
       "      <td>N</td>\n",
       "      <td>N</td>\n",
       "      <td>N</td>\n",
       "      <td>N</td>\n",
       "      <td>N</td>\n",
       "      <td>0</td>\n",
       "      <td>Persistent</td>\n",
       "    </tr>\n",
       "    <tr>\n",
       "      <th>1</th>\n",
       "      <td>Male</td>\n",
       "      <td>Asian</td>\n",
       "      <td>Not Hispanic</td>\n",
       "      <td>West</td>\n",
       "      <td>55-65</td>\n",
       "      <td>GENERAL PRACTITIONER</td>\n",
       "      <td>Others</td>\n",
       "      <td>OB/GYN/Others/PCP/Unknown</td>\n",
       "      <td>N</td>\n",
       "      <td>N</td>\n",
       "      <td>...</td>\n",
       "      <td>N</td>\n",
       "      <td>N</td>\n",
       "      <td>N</td>\n",
       "      <td>N</td>\n",
       "      <td>N</td>\n",
       "      <td>N</td>\n",
       "      <td>N</td>\n",
       "      <td>N</td>\n",
       "      <td>0</td>\n",
       "      <td>Non-Persistent</td>\n",
       "    </tr>\n",
       "    <tr>\n",
       "      <th>2</th>\n",
       "      <td>Female</td>\n",
       "      <td>Other/Unknown</td>\n",
       "      <td>Hispanic</td>\n",
       "      <td>Midwest</td>\n",
       "      <td>65-75</td>\n",
       "      <td>GENERAL PRACTITIONER</td>\n",
       "      <td>Others</td>\n",
       "      <td>OB/GYN/Others/PCP/Unknown</td>\n",
       "      <td>N</td>\n",
       "      <td>N</td>\n",
       "      <td>...</td>\n",
       "      <td>Y</td>\n",
       "      <td>N</td>\n",
       "      <td>N</td>\n",
       "      <td>N</td>\n",
       "      <td>N</td>\n",
       "      <td>N</td>\n",
       "      <td>N</td>\n",
       "      <td>N</td>\n",
       "      <td>0</td>\n",
       "      <td>Non-Persistent</td>\n",
       "    </tr>\n",
       "    <tr>\n",
       "      <th>3</th>\n",
       "      <td>Female</td>\n",
       "      <td>Caucasian</td>\n",
       "      <td>Not Hispanic</td>\n",
       "      <td>Midwest</td>\n",
       "      <td>&gt;75</td>\n",
       "      <td>GENERAL PRACTITIONER</td>\n",
       "      <td>Others</td>\n",
       "      <td>OB/GYN/Others/PCP/Unknown</td>\n",
       "      <td>N</td>\n",
       "      <td>Y</td>\n",
       "      <td>...</td>\n",
       "      <td>N</td>\n",
       "      <td>N</td>\n",
       "      <td>N</td>\n",
       "      <td>N</td>\n",
       "      <td>N</td>\n",
       "      <td>N</td>\n",
       "      <td>N</td>\n",
       "      <td>N</td>\n",
       "      <td>0</td>\n",
       "      <td>Non-Persistent</td>\n",
       "    </tr>\n",
       "    <tr>\n",
       "      <th>4</th>\n",
       "      <td>Female</td>\n",
       "      <td>Caucasian</td>\n",
       "      <td>Not Hispanic</td>\n",
       "      <td>Midwest</td>\n",
       "      <td>&gt;75</td>\n",
       "      <td>GENERAL PRACTITIONER</td>\n",
       "      <td>Others</td>\n",
       "      <td>OB/GYN/Others/PCP/Unknown</td>\n",
       "      <td>Y</td>\n",
       "      <td>Y</td>\n",
       "      <td>...</td>\n",
       "      <td>N</td>\n",
       "      <td>N</td>\n",
       "      <td>N</td>\n",
       "      <td>N</td>\n",
       "      <td>N</td>\n",
       "      <td>N</td>\n",
       "      <td>N</td>\n",
       "      <td>N</td>\n",
       "      <td>0</td>\n",
       "      <td>Non-Persistent</td>\n",
       "    </tr>\n",
       "  </tbody>\n",
       "</table>\n",
       "<p>5 rows × 67 columns</p>\n",
       "</div>"
      ],
      "text/plain": [
       "  ï»¿Gender           Race     Ethnicity   Region Age_Bucket  \\\n",
       "0      Male      Caucasian  Not Hispanic     West        >75   \n",
       "1      Male          Asian  Not Hispanic     West      55-65   \n",
       "2    Female  Other/Unknown      Hispanic  Midwest      65-75   \n",
       "3    Female      Caucasian  Not Hispanic  Midwest        >75   \n",
       "4    Female      Caucasian  Not Hispanic  Midwest        >75   \n",
       "\n",
       "         Ntm_Speciality Ntm_Specialist_Flag      Ntm_Speciality_Bucket  \\\n",
       "0  GENERAL PRACTITIONER              Others  OB/GYN/Others/PCP/Unknown   \n",
       "1  GENERAL PRACTITIONER              Others  OB/GYN/Others/PCP/Unknown   \n",
       "2  GENERAL PRACTITIONER              Others  OB/GYN/Others/PCP/Unknown   \n",
       "3  GENERAL PRACTITIONER              Others  OB/GYN/Others/PCP/Unknown   \n",
       "4  GENERAL PRACTITIONER              Others  OB/GYN/Others/PCP/Unknown   \n",
       "\n",
       "  Gluco_Record_Prior_Ntm Gluco_Record_During_Rx  ... Risk_Low_Calcium_Intake  \\\n",
       "0                      N                      N  ...                       N   \n",
       "1                      N                      N  ...                       N   \n",
       "2                      N                      N  ...                       Y   \n",
       "3                      N                      Y  ...                       N   \n",
       "4                      Y                      Y  ...                       N   \n",
       "\n",
       "  Risk_Vitamin_D_Insufficiency Risk_Poor_Health_Frailty  \\\n",
       "0                            N                        N   \n",
       "1                            N                        N   \n",
       "2                            N                        N   \n",
       "3                            N                        N   \n",
       "4                            N                        N   \n",
       "\n",
       "  Risk_Excessive_Thinness Risk_Hysterectomy_Oophorectomy  \\\n",
       "0                       N                              N   \n",
       "1                       N                              N   \n",
       "2                       N                              N   \n",
       "3                       N                              N   \n",
       "4                       N                              N   \n",
       "\n",
       "  Risk_Estrogen_Deficiency Risk_Immobilization Risk_Recurring_Falls  \\\n",
       "0                        N                   N                    N   \n",
       "1                        N                   N                    N   \n",
       "2                        N                   N                    N   \n",
       "3                        N                   N                    N   \n",
       "4                        N                   N                    N   \n",
       "\n",
       "  Dexa_Freq_During_Rx Persistency_Flag  \n",
       "0                   0       Persistent  \n",
       "1                   0   Non-Persistent  \n",
       "2                   0   Non-Persistent  \n",
       "3                   0   Non-Persistent  \n",
       "4                   0   Non-Persistent  \n",
       "\n",
       "[5 rows x 67 columns]"
      ]
     },
     "execution_count": 3,
     "metadata": {},
     "output_type": "execute_result"
    }
   ],
   "source": [
    "dataset.head()"
   ]
  },
  {
   "cell_type": "markdown",
   "id": "x-Q5umj18LRo",
   "metadata": {
    "id": "x-Q5umj18LRo"
   },
   "source": [
    "Checking the numbers of rows and columns "
   ]
  },
  {
   "cell_type": "code",
   "execution_count": 4,
   "id": "9d776053",
   "metadata": {
    "colab": {
     "base_uri": "https://localhost:8080/"
    },
    "id": "9d776053",
    "outputId": "7290f14f-aae3-494b-c109-c544d210b702"
   },
   "outputs": [
    {
     "data": {
      "text/plain": [
       "(3424, 67)"
      ]
     },
     "execution_count": 4,
     "metadata": {},
     "output_type": "execute_result"
    }
   ],
   "source": [
    "dataset.shape"
   ]
  },
  {
   "cell_type": "markdown",
   "id": "4d30539a",
   "metadata": {},
   "source": [
    "Overview of the dataset "
   ]
  },
  {
   "cell_type": "code",
   "execution_count": 5,
   "id": "71a44458",
   "metadata": {},
   "outputs": [
    {
     "name": "stdout",
     "output_type": "stream",
     "text": [
      "<class 'pandas.core.frame.DataFrame'>\n",
      "RangeIndex: 3424 entries, 0 to 3423\n",
      "Data columns (total 67 columns):\n",
      " #   Column                                                              Non-Null Count  Dtype \n",
      "---  ------                                                              --------------  ----- \n",
      " 0   ï»¿Gender                                                           3424 non-null   object\n",
      " 1   Race                                                                3424 non-null   object\n",
      " 2   Ethnicity                                                           3424 non-null   object\n",
      " 3   Region                                                              3424 non-null   object\n",
      " 4   Age_Bucket                                                          3424 non-null   object\n",
      " 5   Ntm_Speciality                                                      3424 non-null   object\n",
      " 6   Ntm_Specialist_Flag                                                 3424 non-null   object\n",
      " 7   Ntm_Speciality_Bucket                                               3424 non-null   object\n",
      " 8   Gluco_Record_Prior_Ntm                                              3424 non-null   object\n",
      " 9   Gluco_Record_During_Rx                                              3424 non-null   object\n",
      " 10  Dexa_During_Rx                                                      3424 non-null   object\n",
      " 11  Frag_Frac_Prior_Ntm                                                 3424 non-null   object\n",
      " 12  Frag_Frac_During_Rx                                                 3424 non-null   object\n",
      " 13  Risk_Segment_Prior_Ntm                                              3424 non-null   object\n",
      " 14  Tscore_Bucket_Prior_Ntm                                             3424 non-null   object\n",
      " 15  Risk_Segment_During_Rx                                              3424 non-null   object\n",
      " 16  Tscore_Bucket_During_Rx                                             3424 non-null   object\n",
      " 17  Change_T_Score                                                      3424 non-null   object\n",
      " 18  Change_Risk_Segment                                                 3424 non-null   object\n",
      " 19  Adherent_Flag                                                       3424 non-null   object\n",
      " 20  Idn_Indicator                                                       3424 non-null   object\n",
      " 21  Injectable_Experience_During_Rx                                     3424 non-null   object\n",
      " 22  Comorb_Encounter_For_Screening_For_Malignant_Neoplasms              3424 non-null   object\n",
      " 23  Comorb_Encounter_For_Immunization                                   3424 non-null   object\n",
      " 24  Comorb_Encntr_For_General_Exam_W_O_Complaint,_Susp_Or_Reprtd_Dx     3424 non-null   object\n",
      " 25  Comorb_Vitamin_D_Deficiency                                         3424 non-null   object\n",
      " 26  Comorb_Other_Joint_Disorder_Not_Elsewhere_Classified                3424 non-null   object\n",
      " 27  Comorb_Encntr_For_Oth_Sp_Exam_W_O_Complaint_Suspected_Or_Reprtd_Dx  3424 non-null   object\n",
      " 28  Comorb_Long_Term_Current_Drug_Therapy                               3424 non-null   object\n",
      " 29  Comorb_Dorsalgia                                                    3424 non-null   object\n",
      " 30  Comorb_Personal_History_Of_Other_Diseases_And_Conditions            3424 non-null   object\n",
      " 31  Comorb_Other_Disorders_Of_Bone_Density_And_Structure                3424 non-null   object\n",
      " 32  Comorb_Disorders_of_lipoprotein_metabolism_and_other_lipidemias     3424 non-null   object\n",
      " 33  Comorb_Osteoporosis_without_current_pathological_fracture           3424 non-null   object\n",
      " 34  Comorb_Personal_history_of_malignant_neoplasm                       3424 non-null   object\n",
      " 35  Comorb_Gastro_esophageal_reflux_disease                             3424 non-null   object\n",
      " 36  Concom_Cholesterol_And_Triglyceride_Regulating_Preparations         3424 non-null   object\n",
      " 37  Concom_Narcotics                                                    3424 non-null   object\n",
      " 38  Concom_Systemic_Corticosteroids_Plain                               3424 non-null   object\n",
      " 39  Concom_Anti_Depressants_And_Mood_Stabilisers                        3424 non-null   object\n",
      " 40  Concom_Fluoroquinolones                                             3424 non-null   object\n",
      " 41  Concom_Cephalosporins                                               3424 non-null   object\n",
      " 42  Concom_Macrolides_And_Similar_Types                                 3424 non-null   object\n",
      " 43  Concom_Broad_Spectrum_Penicillins                                   3424 non-null   object\n",
      " 44  Concom_Anaesthetics_General                                         3424 non-null   object\n",
      " 45  Concom_Viral_Vaccines                                               3424 non-null   object\n",
      " 46  Risk_Type_1_Insulin_Dependent_Diabetes                              3424 non-null   object\n",
      " 47  Risk_Osteogenesis_Imperfecta                                        3424 non-null   object\n",
      " 48  Risk_Rheumatoid_Arthritis                                           3424 non-null   object\n",
      " 49  Risk_Untreated_Chronic_Hyperthyroidism                              3424 non-null   object\n",
      " 50  Risk_Untreated_Chronic_Hypogonadism                                 3424 non-null   object\n",
      " 51  Risk_Untreated_Early_Menopause                                      3424 non-null   object\n",
      " 52  Risk_Patient_Parent_Fractured_Their_Hip                             3424 non-null   object\n",
      " 53  Risk_Smoking_Tobacco                                                3424 non-null   object\n",
      " 54  Risk_Chronic_Malnutrition_Or_Malabsorption                          3424 non-null   object\n",
      " 55  Risk_Chronic_Liver_Disease                                          3424 non-null   object\n",
      " 56  Risk_Family_History_Of_Osteoporosis                                 3424 non-null   object\n",
      " 57  Risk_Low_Calcium_Intake                                             3424 non-null   object\n",
      " 58  Risk_Vitamin_D_Insufficiency                                        3424 non-null   object\n",
      " 59  Risk_Poor_Health_Frailty                                            3424 non-null   object\n",
      " 60  Risk_Excessive_Thinness                                             3424 non-null   object\n",
      " 61  Risk_Hysterectomy_Oophorectomy                                      3424 non-null   object\n",
      " 62  Risk_Estrogen_Deficiency                                            3424 non-null   object\n",
      " 63  Risk_Immobilization                                                 3424 non-null   object\n",
      " 64  Risk_Recurring_Falls                                                3424 non-null   object\n",
      " 65  Dexa_Freq_During_Rx                                                 3424 non-null   int64 \n",
      " 66  Persistency_Flag                                                    3424 non-null   object\n",
      "dtypes: int64(1), object(66)\n",
      "memory usage: 1.8+ MB\n"
     ]
    }
   ],
   "source": [
    "dataset.info()"
   ]
  },
  {
   "cell_type": "markdown",
   "id": "sgv08IyQ8Rkp",
   "metadata": {
    "id": "sgv08IyQ8Rkp"
   },
   "source": [
    "Checking unique values for each attribute"
   ]
  },
  {
   "cell_type": "code",
   "execution_count": 6,
   "id": "DKyPqjNk8Rzf",
   "metadata": {
    "colab": {
     "base_uri": "https://localhost:8080/"
    },
    "id": "DKyPqjNk8Rzf",
    "outputId": "f19262f6-5c4e-4f99-aff6-031bc273ecf3"
   },
   "outputs": [
    {
     "data": {
      "text/plain": [
       "ï»¿Gender                    2\n",
       "Race                         4\n",
       "Ethnicity                    3\n",
       "Region                       5\n",
       "Age_Bucket                   4\n",
       "                            ..\n",
       "Risk_Estrogen_Deficiency     2\n",
       "Risk_Immobilization          2\n",
       "Risk_Recurring_Falls         2\n",
       "Dexa_Freq_During_Rx         58\n",
       "Persistency_Flag             2\n",
       "Length: 67, dtype: int64"
      ]
     },
     "execution_count": 6,
     "metadata": {},
     "output_type": "execute_result"
    }
   ],
   "source": [
    "dataset.nunique()"
   ]
  },
  {
   "cell_type": "markdown",
   "id": "HCYeMtWF88aX",
   "metadata": {
    "id": "HCYeMtWF88aX"
   },
   "source": [
    "# Recommendations"
   ]
  },
  {
   "cell_type": "markdown",
   "id": "fee63f44",
   "metadata": {},
   "source": [
    "The categorical features contain categories with low cardinality. something we should solve by clustering them into one category. due to the high dimensionality, it might be worthwile to consider dimentionality reduction techniques for increased accuracy in the classification model that would be used. there is only one non categorical feature which would need to be scaled for the model."
   ]
  }
 ],
 "metadata": {
  "colab": {
   "name": "EDA.ipynb",
   "provenance": []
  },
  "kernelspec": {
   "display_name": "Python 3 (ipykernel)",
   "language": "python",
   "name": "python3"
  },
  "language_info": {
   "codemirror_mode": {
    "name": "ipython",
    "version": 3
   },
   "file_extension": ".py",
   "mimetype": "text/x-python",
   "name": "python",
   "nbconvert_exporter": "python",
   "pygments_lexer": "ipython3",
   "version": "3.10.0"
  }
 },
 "nbformat": 4,
 "nbformat_minor": 5
}
